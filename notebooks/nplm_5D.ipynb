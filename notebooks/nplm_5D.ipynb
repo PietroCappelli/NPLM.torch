{
 "cells": [
  {
   "cell_type": "markdown",
   "metadata": {},
   "source": [
    "# NPLM Test notebook"
   ]
  },
  {
   "cell_type": "markdown",
   "metadata": {},
   "source": [
    "## Imports"
   ]
  },
  {
   "cell_type": "code",
   "execution_count": 1,
   "metadata": {},
   "outputs": [],
   "source": [
    "import torch \n",
    "import h5py\n",
    "import os \n",
    "import sys\n",
    "\n",
    "import scipy.stats as stats\n",
    "import numpy as np\n",
    "import matplotlib as mpl\n",
    "import matplotlib.pyplot as plt\n",
    "import mplhep as hep"
   ]
  },
  {
   "cell_type": "code",
   "execution_count": 2,
   "metadata": {},
   "outputs": [],
   "source": [
    "sys.path.insert(0, \"../src\")\n",
    "from plot_utils import plot_ref_data, plot_ref_data_reco, plot_loss_history\n",
    "from analysis_utils import compute_df, produce_bins, save_binning, load_binning\n",
    "from nn_utils import NPLMnetwork, loss_function"
   ]
  },
  {
   "cell_type": "markdown",
   "metadata": {},
   "source": [
    "## Config"
   ]
  },
  {
   "cell_type": "code",
   "execution_count": 3,
   "metadata": {},
   "outputs": [
    {
     "name": "stdout",
     "output_type": "stream",
     "text": [
      "cuda\n"
     ]
    }
   ],
   "source": [
    "# use gpu if available\n",
    "device = torch.device(\"cuda\" if torch.cuda.is_available() else \"cpu\")\n",
    "# device = torch.device(\"cpu\")\n",
    "print(device)"
   ]
  },
  {
   "cell_type": "code",
   "execution_count": 4,
   "metadata": {},
   "outputs": [],
   "source": [
    "hep.style.use(hep.style.CMS)"
   ]
  },
  {
   "cell_type": "markdown",
   "metadata": {},
   "source": [
    "## Constants"
   ]
  },
  {
   "cell_type": "code",
   "execution_count": 5,
   "metadata": {},
   "outputs": [],
   "source": [
    "# Set random seed\n",
    "SEED = 1231244\n",
    "torch.manual_seed(SEED)\n",
    "np.random.seed(SEED)\n",
    "\n",
    "# Plotting parameters\n",
    "FONTSIZE  = 24\n",
    "FIGSIZE   = (10, 8)\n",
    "RATIOSIZE = (10, 10)\n",
    "PALETTE_1 = [\n",
    "    \"#1f77b4\", # 0\n",
    "    \"#4876bf\", # 1 \n",
    "    \"#6c74c5\", # 2\n",
    "    \"#8f6fc6\", # 3\n",
    "    \"#b067c0\", # 4\n",
    "    \"#cd5fb4\", # 5\n",
    "    \"#e657a3\", # 6\n",
    "    \"#f9528d\", # 7\n",
    "    \"#ff5474\", # 8\n",
    "    \"#ff5d58\", # 9\n",
    "    \"#ff6c3a\", # 10\n",
    "    \"#ff7f0e\", # 11\n",
    "]\n",
    "PALETTE_2 = [\n",
    "    \"#494B69\", # 0\n",
    "    \"#695D7A\", # 1\n",
    "    \"#9F5B72\", # 2\n",
    "    \"#D8707C\", # 3\n",
    "    \"#FDA85A\", # 4\n",
    "    \"#FDCD5A\", # 5\n",
    "]\n",
    "PALETTE_3 = [\n",
    "    \"midnightblue\",   # 0\n",
    "    \"#1f78b4\",        # 1\n",
    "    \"lightseagreen\",  # 2\n",
    "    \"mediumseagreen\", # 3\n",
    "    \"darkseagreen\",   # 4\n",
    "]\n",
    "\n",
    "PLOT_PATH = \"./plots/\"\n",
    "if not os.path.exists(PLOT_PATH):\n",
    "    os.makedirs(PLOT_PATH)\n",
    "    \n",
    "DATA_PATH = \"./data/\"\n",
    "if not os.path.exists(DATA_PATH):\n",
    "    os.makedirs(DATA_PATH)"
   ]
  },
  {
   "cell_type": "markdown",
   "metadata": {},
   "source": [
    "## NPLM"
   ]
  },
  {
   "cell_type": "markdown",
   "metadata": {},
   "source": [
    "### Import 5D data"
   ]
  },
  {
   "cell_type": "code",
   "execution_count": 99,
   "metadata": {},
   "outputs": [
    {
     "name": "stdout",
     "output_type": "stream",
     "text": [
      "Keys: <KeysViewHDF5 ['delta_phi', 'eta1', 'eta2', 'mll', 'pt1', 'pt2']>\n"
     ]
    }
   ],
   "source": [
    "with h5py.File(\"/home/ubuntu/NPLM.torch/notebooks/data/DiLepton_SM/DiLepton_SM1.h5\", \"r\") as f:\n",
    "    print(\"Keys: %s\" % f.keys())\n",
    "    a_group_key = list(f.keys())[0]\n",
    "    # dphi = f['delta_phi'][:]\n",
    "\n",
    "# plt.hist(dphi, bins=100)"
   ]
  },
  {
   "cell_type": "code",
   "execution_count": 6,
   "metadata": {},
   "outputs": [
    {
     "name": "stdout",
     "output_type": "stream",
     "text": [
      "the number of files for R are:   66\n",
      "the number of files for Hw are:  69\n",
      "/home/ubuntu/NPLM.torch/notebooks/data/DiLepton_SM/DiLepton_SM59.h5\n",
      "/home/ubuntu/NPLM.torch/notebooks/data/DiLepton_SM/DiLepton_SM45.h5\n",
      "/home/ubuntu/NPLM.torch/notebooks/data/DiLepton_EFT06/DiLepton_EFT0622.h5\n",
      "/home/ubuntu/NPLM.torch/notebooks/data/DiLepton_EFT06/DiLepton_EFT0618.h5\n"
     ]
    }
   ],
   "source": [
    "DATA_PATH = \"/home/ubuntu/NPLM.torch/notebooks/data/\"\n",
    "Data_dir  = [DATA_PATH+file+'/' for file in os.listdir(DATA_PATH)]\n",
    "# DATA_file = [row for row in [os.listdir(d) for d in (Data_dir)]]\n",
    "DATA = [row+item for row in Data_dir for item in os.listdir(row)]\n",
    "DATA = [file for file in DATA if not \"/._\" in file]\n",
    "\n",
    "REF_file  = [file for file in DATA if \"DiLepton_SM\" in file ]\n",
    "DATA_file = [file for file in DATA if not \"DiLepton_SM\" in file]\n",
    "\n",
    "print(\"the number of files for R are:  \", len(REF_file))\n",
    "print(\"the number of files for Hw are: \", len(DATA_file) )\n",
    "\n",
    "ref_corrupt  = REF_file[48]\n",
    "data_corrupt = DATA_file[29]\n",
    "\n",
    "print(REF_file[48])\n",
    "del REF_file[48]\n",
    "print(REF_file[48])\n",
    "\n",
    "print(DATA_file[29])\n",
    "del DATA_file[29]\n",
    "print(DATA_file[29])\n"
   ]
  },
  {
   "cell_type": "markdown",
   "metadata": {},
   "source": [
    "### Dataset class"
   ]
  },
  {
   "cell_type": "code",
   "execution_count": 7,
   "metadata": {},
   "outputs": [],
   "source": [
    "# from torch.utils.data import Dataset\n",
    "\n",
    "# class Dataset5D(Dataset):\n",
    "\n",
    "#     # return a tensor of the data contained in a single file\n",
    "\n",
    "#     def __init__(self, file_paths):\n",
    "#         self.file_paths = file_paths\n",
    "\n",
    "#     def __len__(self):\n",
    "#         return len(self.file_paths)\n",
    "\n",
    "#     def __getitem__(self, idx):\n",
    "#         file_path = self.file_paths[idx]\n",
    "        \n",
    "#         with h5py.File(file_path, 'r') as f:\n",
    "#             # Select only the 5 features\n",
    "#             pt1  = torch.tensor(f['pt1'][:])\n",
    "#             pt2  = torch.tensor(f['pt2'][:])\n",
    "#             eta1 = torch.tensor(f['eta1'][:])\n",
    "#             eta2 = torch.tensor(f['eta2'][:])\n",
    "#             delta_phi = torch.tensor(f['delta_phi'][:])\n",
    "            \n",
    "#             features = torch.stack([pt1,pt2,eta1,eta2,delta_phi], dim=1)\n",
    "#         return features"
   ]
  },
  {
   "cell_type": "code",
   "execution_count": 103,
   "metadata": {},
   "outputs": [],
   "source": [
    "from torch.utils.data import Dataset\n",
    "\n",
    "class Dataset5D(Dataset):\n",
    "\n",
    "    # return a tensor of the data contained in a single file\n",
    "\n",
    "    def __init__(self, file_paths, normalize=True):\n",
    "        self.file_paths = file_paths\n",
    "        self.normalize = normalize\n",
    "        \n",
    "        self.means = []\n",
    "        self.stds = []\n",
    "\n",
    "        if False:              \n",
    "            for path in file_paths:\n",
    "                with h5py.File(path, 'r') as f:\n",
    "                    \n",
    "                    mean_pt1 = torch.mean(torch.tensor(f['pt1'][:]))\n",
    "                    mean_pt2 = torch.mean(torch.tensor(f['pt2'][:]))\n",
    "                    mean_eta1 = torch.mean(torch.tensor(f['eta1'][:]))\n",
    "                    mean_eta2 = torch.mean(torch.tensor(f['eta2'][:]))\n",
    "                    mean_delta_phi = torch.mean(torch.tensor(f['delta_phi'][:]))\n",
    "\n",
    "                    std_pt1 = torch.std(torch.tensor(f['pt1'][:]))\n",
    "                    std_pt2 = torch.std(torch.tensor(f['pt2'][:]))\n",
    "                    std_eta1 = torch.std(torch.tensor(f['eta1'][:]))\n",
    "                    std_eta2 = torch.std(torch.tensor(f['eta2'][:]))\n",
    "                    std_delta_phi = torch.std(torch.tensor(f['delta_phi'][:]))\n",
    "\n",
    "                    self.means.append((mean_pt1, mean_pt2, mean_eta1, mean_eta2, mean_delta_phi))\n",
    "                    self.stds.append((std_pt1, std_pt2, std_eta1, std_eta2, std_delta_phi))        \n",
    "            \n",
    "    def __len__(self):\n",
    "        return len(self.file_paths)\n",
    "\n",
    "    def __getitem__(self, idx):\n",
    "        file_path = self.file_paths[idx]\n",
    "        \n",
    "        with h5py.File(file_path, 'r') as f:\n",
    "            # Select only the 5 features\n",
    "            pt1  = torch.tensor(f['pt1'][:])\n",
    "            pt2  = torch.tensor(f['pt2'][:])\n",
    "            eta1 = torch.tensor(f['eta1'][:])\n",
    "            eta2 = torch.tensor(f['eta2'][:])\n",
    "            delta_phi = torch.tensor(f['delta_phi'][:])\n",
    "            \n",
    "            if self.normalize:\n",
    "                \n",
    "                mean_pt1 = torch.mean(torch.tensor(f['pt1'][:]))\n",
    "                mean_pt2 = torch.mean(torch.tensor(f['pt2'][:]))\n",
    "                mean_eta1 = torch.mean(torch.tensor(f['eta1'][:]))\n",
    "                mean_eta2 = torch.mean(torch.tensor(f['eta2'][:]))\n",
    "                mean_delta_phi = torch.mean(torch.tensor(f['delta_phi'][:]))\n",
    "\n",
    "                std_pt1 = torch.std(torch.tensor(f['pt1'][:]))\n",
    "                std_pt2 = torch.std(torch.tensor(f['pt2'][:]))\n",
    "                std_eta1 = torch.std(torch.tensor(f['eta1'][:]))\n",
    "                std_eta2 = torch.std(torch.tensor(f['eta2'][:]))\n",
    "                std_delta_phi = torch.std(torch.tensor(f['delta_phi'][:]))\n",
    "                \n",
    "                pt1 = (pt1 - mean_pt1) / std_pt1\n",
    "                pt2 = (pt2 - mean_pt2) / std_pt2\n",
    "                eta1 = (eta1 - mean_eta1) / std_eta1\n",
    "                eta2 = (eta2 - mean_eta2) / std_eta2\n",
    "                delta_phi = (delta_phi - mean_delta_phi) / std_delta_phi\n",
    "\n",
    "            features = torch.stack([pt1,pt2,eta1,eta2,delta_phi], dim=1)\n",
    "\n",
    "        return features\n",
    "    "
   ]
  },
  {
   "cell_type": "code",
   "execution_count": 104,
   "metadata": {},
   "outputs": [
    {
     "name": "stdout",
     "output_type": "stream",
     "text": [
      "REF:\n",
      "NP:\n"
     ]
    }
   ],
   "source": [
    "'''\n",
    "LOOK IF THERE ARE SOME CORRUPTED FILES\n",
    "'''\n",
    "print(\"REF:\")\n",
    "ref_dataset = Dataset5D(REF_file)\n",
    "ref_list = []\n",
    "for i in range(len(ref_dataset)):\n",
    "    try:\n",
    "        ref_list.append(ref_dataset[i])\n",
    "    except Exception as e:\n",
    "        print(i)\n",
    "\n",
    "print(\"NP:\")\n",
    "np_dataset = Dataset5D(DATA_file)\n",
    "data_list = []\n",
    "for i in range(len(np_dataset)):\n",
    "    try:\n",
    "        data_list.append(np_dataset[i])\n",
    "    except Exception as e:\n",
    "        print(i)\n",
    "\n",
    "del data_list, ref_list"
   ]
  },
  {
   "cell_type": "markdown",
   "metadata": {},
   "source": [
    "quando devi creare uno script, conviene caricare tutti i dati sul device (perchè richiede tempo) e poi ad ogni training diverso prendere randomicamente i tot eventi. In questo modo dovrebbe essere leggermente più veloce, si spera"
   ]
  },
  {
   "cell_type": "code",
   "execution_count": 105,
   "metadata": {},
   "outputs": [
    {
     "name": "stdout",
     "output_type": "stream",
     "text": [
      "torch.Size([3735456, 5])\n",
      "torch.Size([3861289, 5])\n"
     ]
    },
    {
     "data": {
      "text/plain": [
       "tensor([[ 1.0285, -0.2437,  0.7733,  0.4866,  0.3274],\n",
       "        [-0.3591,  0.4164,  0.0286,  0.5130,  0.0774],\n",
       "        [ 2.0961, -1.3947,  0.6685,  1.0887, -0.6643],\n",
       "        ...,\n",
       "        [-0.1588,  0.6694,  0.5620, -0.0778,  0.2592],\n",
       "        [ 0.8684,  0.4016, -1.0858, -1.0000,  1.5308],\n",
       "        [ 1.2523, -0.3689,  1.1869,  0.6257, -1.4760]], dtype=torch.float64)"
      ]
     },
     "execution_count": 105,
     "metadata": {},
     "output_type": "execute_result"
    }
   ],
   "source": [
    "# CONCATENATE ALL THE FILES TENSORS\n",
    "\n",
    "# REFERENCE DATASET\n",
    "ref_dataset = Dataset5D(REF_file, normalize=True)\n",
    "REF_FEAT = torch.cat([ref_dataset[i] for i in range(len(ref_dataset))], dim=0)\n",
    "print(REF_FEAT.shape)\n",
    "\n",
    "# NEW PHYSICS DATASET\n",
    "np_dataset   = Dataset5D(DATA_file, normalize=True)\n",
    "DATA_FEAT = torch.cat([np_dataset[i] for i in range(len(np_dataset))], dim=0)\n",
    "print(DATA_FEAT.shape)\n",
    "\n",
    "ref_dataset[0]\n"
   ]
  },
  {
   "cell_type": "markdown",
   "metadata": {},
   "source": [
    "### Normalize"
   ]
  },
  {
   "cell_type": "code",
   "execution_count": 106,
   "metadata": {},
   "outputs": [
    {
     "data": {
      "text/plain": [
       "torch.Size([57540, 5])"
      ]
     },
     "execution_count": 106,
     "metadata": {},
     "output_type": "execute_result"
    }
   ],
   "source": [
    "ref_dataset_NN = Dataset5D(REF_file, normalize=False)\n",
    "ref_dataset_NN[0].shape"
   ]
  },
  {
   "cell_type": "code",
   "execution_count": null,
   "metadata": {},
   "outputs": [],
   "source": []
  },
  {
   "cell_type": "markdown",
   "metadata": {},
   "source": [
    "### Create Dataset"
   ]
  },
  {
   "cell_type": "code",
   "execution_count": 120,
   "metadata": {},
   "outputs": [
    {
     "data": {
      "text/plain": [
       "5"
      ]
     },
     "execution_count": 120,
     "metadata": {},
     "output_type": "execute_result"
    }
   ],
   "source": [
    "# Statistics       \n",
    "N_EVENTS_R = REF_FEAT.shape[0]                                                                                                                                        \n",
    "N_EVENTS_D = DATA_FEAT.shape[0]                                                                                                                                            \n",
    "N_REF      = 40000\n",
    "N_BKG      = 8000\n",
    "N_SIG      = 0  \n",
    "# Samples weights N_D/N_R\n",
    "N_R        = N_REF\n",
    "N_D        = N_BKG\n",
    "\n",
    "# Training parameters\n",
    "N_EPOCHS   = 300000\n",
    "PATIENCE   = 5000\n",
    "\n",
    "# Network parameters\n",
    "N_INPUTS     = REF_FEAT.shape[1]\n",
    "N_OUTPUTS    = 1\n",
    "ARCHITECTURE = [N_INPUTS, 5,5,5, N_OUTPUTS]\n",
    "WCLIP        = 10\n",
    "ACTIVATION   = torch.nn.Sigmoid()\n",
    "\n",
    "N_INPUTS"
   ]
  },
  {
   "cell_type": "code",
   "execution_count": 121,
   "metadata": {},
   "outputs": [],
   "source": [
    "# poisson fluctuate the number of events in each sample\n",
    "N_bkg_p = int(torch.distributions.Poisson(rate=N_BKG).sample())\n",
    "N_sig_p = int(torch.distributions.Poisson(rate=N_SIG).sample())\n",
    "\n",
    "# indeces for the Reference and the BKG dataset\n",
    "idxs    = torch.multinomial(torch.ones(N_EVENTS_R), num_samples=(N_REF + N_bkg_p), replacement=False)\n",
    "idx_R   = idxs[:N_REF]\n",
    "idx_bkg = idxs[:N_bkg_p]\n",
    "# extract idx_R from all the SM events\n",
    "feature_ref = REF_FEAT[idx_R]\n",
    "feature_bkg = REF_FEAT[idx_bkg]\n",
    "\n",
    "# SIGNAL\n",
    "# feature_sig = DATA_FEAT[]\n",
    "\n",
    "feature = torch.cat((feature_ref, feature_bkg), dim=0)\n"
   ]
  },
  {
   "cell_type": "code",
   "execution_count": 122,
   "metadata": {},
   "outputs": [],
   "source": [
    "# set target: 0 for ref and 1 for data \n",
    "target_ref = torch.zeros((N_REF,1), dtype=torch.float32) \n",
    "target_bkg = torch.ones((N_bkg_p,1), dtype=torch.float32)\n",
    "# target_data = torch.ones(())\n",
    "\n",
    "target = torch.cat((target_ref, target_bkg), dim=0)\n",
    "\n",
    "# initialize weights as ones * N_D / N_R\n",
    "weights_ref = torch.ones((N_REF, 1), dtype=torch.float32)   * (N_D / N_R)\n",
    "weights_bkg = torch.ones((N_bkg_p, 1), dtype=torch.float32) \n",
    "\n",
    "weights = torch.cat((weights_bkg, weights_ref), dim=0)\n",
    "\n",
    "# concatenate the weights to the target\n",
    "target = torch.cat((target, weights), dim=1)"
   ]
  },
  {
   "cell_type": "code",
   "execution_count": 123,
   "metadata": {},
   "outputs": [
    {
     "name": "stdout",
     "output_type": "stream",
     "text": [
      "target:  torch.Size([47907, 2])\n",
      "feature: torch.Size([47907, 5])\n",
      "torch.float32\n",
      "torch.float32\n",
      "torch.Size([47907, 2])\n",
      "torch.Size([47907, 5])\n"
     ]
    }
   ],
   "source": [
    "print(\"target: \",target.shape)\n",
    "print(\"feature:\",feature.shape)\n",
    "\n",
    "t = target\n",
    "f = feature.type(torch.float32)\n",
    "\n",
    "print(t.dtype)\n",
    "print(f.dtype)\n",
    "\n",
    "print(t.shape)\n",
    "print(f.shape)"
   ]
  },
  {
   "cell_type": "code",
   "execution_count": 124,
   "metadata": {},
   "outputs": [
    {
     "name": "stdout",
     "output_type": "stream",
     "text": [
      "66\n"
     ]
    }
   ],
   "source": [
    "dof = compute_df(ARCHITECTURE)\n",
    "print(dof)"
   ]
  },
  {
   "cell_type": "code",
   "execution_count": 125,
   "metadata": {},
   "outputs": [],
   "source": [
    "# bins = load_binning(path=DATA_PATH, name=\"binning_1dexpon.h5\")\n",
    "bins = produce_bins(data=feature_ref, method=\"simple\", bins_range=(0, 10), bins_width=0.25)"
   ]
  },
  {
   "cell_type": "markdown",
   "metadata": {},
   "source": [
    "### Create NPLM model"
   ]
  },
  {
   "cell_type": "code",
   "execution_count": 128,
   "metadata": {},
   "outputs": [],
   "source": [
    "nplm_model = NPLMnetwork(\n",
    "    architecture      = ARCHITECTURE,\n",
    "    activation_func   = ACTIVATION,\n",
    "    weight_clip_value = 100,\n",
    "    trainable         = True,\n",
    "    device            = device\n",
    ").to(device)\n",
    "\n",
    "optimizer = torch.optim.Adam(nplm_model.parameters(), lr=0.001)"
   ]
  },
  {
   "cell_type": "markdown",
   "metadata": {},
   "source": [
    "### Train NPLM model"
   ]
  },
  {
   "cell_type": "code",
   "execution_count": 129,
   "metadata": {},
   "outputs": [
    {
     "name": "stdout",
     "output_type": "stream",
     "text": [
      "Epoch 3000/300000 - Loss: -9259.6582\n"
     ]
    },
    {
     "ename": "KeyboardInterrupt",
     "evalue": "",
     "output_type": "error",
     "traceback": [
      "\u001b[0;31m---------------------------------------------------------------------------\u001b[0m",
      "\u001b[0;31mKeyboardInterrupt\u001b[0m                         Traceback (most recent call last)",
      "Cell \u001b[0;32mIn[129], line 1\u001b[0m\n\u001b[0;32m----> 1\u001b[0m \u001b[43mnplm_model\u001b[49m\u001b[38;5;241;43m.\u001b[39;49m\u001b[43mtrain_model\u001b[49m\u001b[43m(\u001b[49m\n\u001b[1;32m      2\u001b[0m \u001b[43m    \u001b[49m\u001b[43mfeature\u001b[49m\u001b[43m       \u001b[49m\u001b[38;5;241;43m=\u001b[39;49m\u001b[43m \u001b[49m\u001b[43mf\u001b[49m\u001b[43m,\u001b[49m\u001b[43m \u001b[49m\u001b[38;5;66;43;03m#[N, 5]\u001b[39;49;00m\n\u001b[1;32m      3\u001b[0m \u001b[43m    \u001b[49m\u001b[43mtarget\u001b[49m\u001b[43m        \u001b[49m\u001b[38;5;241;43m=\u001b[39;49m\u001b[43m \u001b[49m\u001b[43mt\u001b[49m\u001b[43m,\u001b[49m\u001b[43m \u001b[49m\u001b[38;5;66;43;03m#[N, 2]\u001b[39;49;00m\n\u001b[1;32m      4\u001b[0m \u001b[43m    \u001b[49m\u001b[43mloss_function\u001b[49m\u001b[43m \u001b[49m\u001b[38;5;241;43m=\u001b[39;49m\u001b[43m \u001b[49m\u001b[43mloss_function\u001b[49m\u001b[43m,\u001b[49m\n\u001b[1;32m      5\u001b[0m \u001b[43m    \u001b[49m\u001b[43moptimizer\u001b[49m\u001b[43m     \u001b[49m\u001b[38;5;241;43m=\u001b[39;49m\u001b[43m \u001b[49m\u001b[43moptimizer\u001b[49m\u001b[43m,\u001b[49m\n\u001b[1;32m      6\u001b[0m \u001b[43m    \u001b[49m\u001b[43mn_epochs\u001b[49m\u001b[43m      \u001b[49m\u001b[38;5;241;43m=\u001b[39;49m\u001b[43m \u001b[49m\u001b[43mN_EPOCHS\u001b[49m\u001b[43m,\u001b[49m\n\u001b[1;32m      7\u001b[0m \u001b[43m    \u001b[49m\u001b[43mpatience\u001b[49m\u001b[43m      \u001b[49m\u001b[38;5;241;43m=\u001b[39;49m\u001b[43m \u001b[49m\u001b[38;5;241;43m3000\u001b[39;49m\u001b[43m,\u001b[49m\n\u001b[1;32m      8\u001b[0m \u001b[43m)\u001b[49m\n",
      "File \u001b[0;32m~/NPLM.torch/notebooks/../src/nn_utils.py:138\u001b[0m, in \u001b[0;36mNPLMnetwork.train_model\u001b[0;34m(self, feature, target, loss_function, optimizer, n_epochs, patience)\u001b[0m\n\u001b[1;32m    135\u001b[0m \u001b[38;5;28mself\u001b[39m\u001b[38;5;241m.\u001b[39mt_list\u001b[38;5;241m.\u001b[39mappend(t)\n\u001b[1;32m    137\u001b[0m \u001b[38;5;66;03m# Backward pass and optimize\u001b[39;00m\n\u001b[0;32m--> 138\u001b[0m \u001b[43mloss\u001b[49m\u001b[38;5;241;43m.\u001b[39;49m\u001b[43mbackward\u001b[49m\u001b[43m(\u001b[49m\u001b[43m)\u001b[49m\n\u001b[1;32m    139\u001b[0m optimizer\u001b[38;5;241m.\u001b[39mstep()\n\u001b[1;32m    141\u001b[0m \u001b[38;5;66;03m# Clip weights\u001b[39;00m\n",
      "File \u001b[0;32m~/miniconda3/envs/nplm-env/lib/python3.11/site-packages/torch/_tensor.py:492\u001b[0m, in \u001b[0;36mTensor.backward\u001b[0;34m(self, gradient, retain_graph, create_graph, inputs)\u001b[0m\n\u001b[1;32m    482\u001b[0m \u001b[38;5;28;01mif\u001b[39;00m has_torch_function_unary(\u001b[38;5;28mself\u001b[39m):\n\u001b[1;32m    483\u001b[0m     \u001b[38;5;28;01mreturn\u001b[39;00m handle_torch_function(\n\u001b[1;32m    484\u001b[0m         Tensor\u001b[38;5;241m.\u001b[39mbackward,\n\u001b[1;32m    485\u001b[0m         (\u001b[38;5;28mself\u001b[39m,),\n\u001b[0;32m   (...)\u001b[0m\n\u001b[1;32m    490\u001b[0m         inputs\u001b[38;5;241m=\u001b[39minputs,\n\u001b[1;32m    491\u001b[0m     )\n\u001b[0;32m--> 492\u001b[0m \u001b[43mtorch\u001b[49m\u001b[38;5;241;43m.\u001b[39;49m\u001b[43mautograd\u001b[49m\u001b[38;5;241;43m.\u001b[39;49m\u001b[43mbackward\u001b[49m\u001b[43m(\u001b[49m\n\u001b[1;32m    493\u001b[0m \u001b[43m    \u001b[49m\u001b[38;5;28;43mself\u001b[39;49m\u001b[43m,\u001b[49m\u001b[43m \u001b[49m\u001b[43mgradient\u001b[49m\u001b[43m,\u001b[49m\u001b[43m \u001b[49m\u001b[43mretain_graph\u001b[49m\u001b[43m,\u001b[49m\u001b[43m \u001b[49m\u001b[43mcreate_graph\u001b[49m\u001b[43m,\u001b[49m\u001b[43m \u001b[49m\u001b[43minputs\u001b[49m\u001b[38;5;241;43m=\u001b[39;49m\u001b[43minputs\u001b[49m\n\u001b[1;32m    494\u001b[0m \u001b[43m\u001b[49m\u001b[43m)\u001b[49m\n",
      "File \u001b[0;32m~/miniconda3/envs/nplm-env/lib/python3.11/site-packages/torch/autograd/__init__.py:251\u001b[0m, in \u001b[0;36mbackward\u001b[0;34m(tensors, grad_tensors, retain_graph, create_graph, grad_variables, inputs)\u001b[0m\n\u001b[1;32m    246\u001b[0m     retain_graph \u001b[38;5;241m=\u001b[39m create_graph\n\u001b[1;32m    248\u001b[0m \u001b[38;5;66;03m# The reason we repeat the same comment below is that\u001b[39;00m\n\u001b[1;32m    249\u001b[0m \u001b[38;5;66;03m# some Python versions print out the first line of a multi-line function\u001b[39;00m\n\u001b[1;32m    250\u001b[0m \u001b[38;5;66;03m# calls in the traceback and some print out the last line\u001b[39;00m\n\u001b[0;32m--> 251\u001b[0m \u001b[43mVariable\u001b[49m\u001b[38;5;241;43m.\u001b[39;49m\u001b[43m_execution_engine\u001b[49m\u001b[38;5;241;43m.\u001b[39;49m\u001b[43mrun_backward\u001b[49m\u001b[43m(\u001b[49m\u001b[43m  \u001b[49m\u001b[38;5;66;43;03m# Calls into the C++ engine to run the backward pass\u001b[39;49;00m\n\u001b[1;32m    252\u001b[0m \u001b[43m    \u001b[49m\u001b[43mtensors\u001b[49m\u001b[43m,\u001b[49m\n\u001b[1;32m    253\u001b[0m \u001b[43m    \u001b[49m\u001b[43mgrad_tensors_\u001b[49m\u001b[43m,\u001b[49m\n\u001b[1;32m    254\u001b[0m \u001b[43m    \u001b[49m\u001b[43mretain_graph\u001b[49m\u001b[43m,\u001b[49m\n\u001b[1;32m    255\u001b[0m \u001b[43m    \u001b[49m\u001b[43mcreate_graph\u001b[49m\u001b[43m,\u001b[49m\n\u001b[1;32m    256\u001b[0m \u001b[43m    \u001b[49m\u001b[43minputs\u001b[49m\u001b[43m,\u001b[49m\n\u001b[1;32m    257\u001b[0m \u001b[43m    \u001b[49m\u001b[43mallow_unreachable\u001b[49m\u001b[38;5;241;43m=\u001b[39;49m\u001b[38;5;28;43;01mTrue\u001b[39;49;00m\u001b[43m,\u001b[49m\n\u001b[1;32m    258\u001b[0m \u001b[43m    \u001b[49m\u001b[43maccumulate_grad\u001b[49m\u001b[38;5;241;43m=\u001b[39;49m\u001b[38;5;28;43;01mTrue\u001b[39;49;00m\u001b[43m,\u001b[49m\n\u001b[1;32m    259\u001b[0m \u001b[43m\u001b[49m\u001b[43m)\u001b[49m\n",
      "\u001b[0;31mKeyboardInterrupt\u001b[0m: "
     ]
    }
   ],
   "source": [
    "nplm_model.train_model(\n",
    "    feature       = f, #[N, 5]\n",
    "    target        = t, #[N, 2]\n",
    "    loss_function = loss_function,\n",
    "    optimizer     = optimizer,\n",
    "    n_epochs      = N_EPOCHS,\n",
    "    patience      = 3000,\n",
    ")"
   ]
  },
  {
   "cell_type": "markdown",
   "metadata": {},
   "source": [
    "### Loss function plot"
   ]
  },
  {
   "cell_type": "code",
   "execution_count": null,
   "metadata": {},
   "outputs": [
    {
     "ename": "ValueError",
     "evalue": "x and y must have same first dimension, but have shapes (299650,) and (333144,)",
     "output_type": "error",
     "traceback": [
      "\u001b[0;31m---------------------------------------------------------------------------\u001b[0m",
      "\u001b[0;31mValueError\u001b[0m                                Traceback (most recent call last)",
      "Cell \u001b[0;32mIn[173], line 1\u001b[0m\n\u001b[0;32m----> 1\u001b[0m \u001b[43mplot_loss_history\u001b[49m\u001b[43m(\u001b[49m\n\u001b[1;32m      2\u001b[0m \u001b[43m    \u001b[49m\u001b[43mn_epochs\u001b[49m\u001b[43m     \u001b[49m\u001b[38;5;241;43m=\u001b[39;49m\u001b[43m \u001b[49m\u001b[43mN_EPOCHS\u001b[49m\u001b[43m,\u001b[49m\n\u001b[1;32m      3\u001b[0m \u001b[43m    \u001b[49m\u001b[43mloss_history\u001b[49m\u001b[43m \u001b[49m\u001b[38;5;241;43m=\u001b[39;49m\u001b[43m \u001b[49m\u001b[43mnplm_model\u001b[49m\u001b[38;5;241;43m.\u001b[39;49m\u001b[43mget_losses\u001b[49m\u001b[43m(\u001b[49m\u001b[43m)\u001b[49m\u001b[43m,\u001b[49m\n\u001b[1;32m      4\u001b[0m \u001b[43m    \u001b[49m\u001b[43mepochs_init\u001b[49m\u001b[43m  \u001b[49m\u001b[38;5;241;43m=\u001b[39;49m\u001b[43m \u001b[49m\u001b[38;5;241;43m350\u001b[39;49m\u001b[43m,\u001b[49m\n\u001b[1;32m      5\u001b[0m \u001b[43m    \u001b[49m\u001b[43mepochs_norm\u001b[49m\u001b[43m  \u001b[49m\u001b[38;5;241;43m=\u001b[39;49m\u001b[43m \u001b[49m\u001b[38;5;241;43m1000\u001b[39;49m\u001b[43m,\u001b[49m\n\u001b[1;32m      6\u001b[0m \u001b[43m    \u001b[49m\u001b[43mfigsize\u001b[49m\u001b[43m      \u001b[49m\u001b[38;5;241;43m=\u001b[39;49m\u001b[43m \u001b[49m\u001b[43mFIGSIZE\u001b[49m\u001b[43m,\u001b[49m\n\u001b[1;32m      7\u001b[0m \u001b[43m    \u001b[49m\u001b[43mfontsize\u001b[49m\u001b[43m     \u001b[49m\u001b[38;5;241;43m=\u001b[39;49m\u001b[43m \u001b[49m\u001b[43mFONTSIZE\u001b[49m\u001b[43m,\u001b[49m\n\u001b[1;32m      8\u001b[0m \u001b[43m    \u001b[49m\u001b[43mcms\u001b[49m\u001b[43m          \u001b[49m\u001b[38;5;241;43m=\u001b[39;49m\u001b[43m \u001b[49m\u001b[38;5;28;43;01mFalse\u001b[39;49;00m\u001b[43m,\u001b[49m\n\u001b[1;32m      9\u001b[0m \u001b[43m    \u001b[49m\u001b[43mcolor\u001b[49m\u001b[43m        \u001b[49m\u001b[38;5;241;43m=\u001b[39;49m\u001b[43m \u001b[49m\u001b[43mPALETTE_2\u001b[49m\u001b[43m[\u001b[49m\u001b[38;5;241;43m1\u001b[39;49m\u001b[43m]\u001b[49m\u001b[43m,\u001b[49m\n\u001b[1;32m     10\u001b[0m \u001b[43m    \u001b[49m\u001b[43mxlabel\u001b[49m\u001b[43m       \u001b[49m\u001b[38;5;241;43m=\u001b[39;49m\u001b[43m \u001b[49m\u001b[38;5;124;43mr\u001b[39;49m\u001b[38;5;124;43m\"\u001b[39;49m\u001b[38;5;124;43mEpochs $\u001b[39;49m\u001b[38;5;124;43m\\\u001b[39;49m\u001b[38;5;124;43mtimes 10^3$\u001b[39;49m\u001b[38;5;124;43m\"\u001b[39;49m\u001b[43m,\u001b[49m\n\u001b[1;32m     11\u001b[0m \u001b[43m    \u001b[49m\u001b[43mylabel\u001b[49m\u001b[43m       \u001b[49m\u001b[38;5;241;43m=\u001b[39;49m\u001b[43m \u001b[49m\u001b[38;5;124;43m\"\u001b[39;49m\u001b[38;5;124;43mLoss\u001b[39;49m\u001b[38;5;124;43m\"\u001b[39;49m\u001b[43m,\u001b[49m\n\u001b[1;32m     12\u001b[0m \u001b[43m    \u001b[49m\u001b[43mshow_plot\u001b[49m\u001b[43m    \u001b[49m\u001b[38;5;241;43m=\u001b[39;49m\u001b[43m \u001b[49m\u001b[38;5;28;43;01mTrue\u001b[39;49;00m\u001b[43m,\u001b[49m\n\u001b[1;32m     13\u001b[0m \u001b[43m    \u001b[49m\u001b[43msave_plot\u001b[49m\u001b[43m    \u001b[49m\u001b[38;5;241;43m=\u001b[39;49m\u001b[43m \u001b[49m\u001b[38;5;28;43;01mFalse\u001b[39;49;00m\u001b[43m,\u001b[49m\n\u001b[1;32m     14\u001b[0m \u001b[43m    \u001b[49m\u001b[43mplot_name\u001b[49m\u001b[43m    \u001b[49m\u001b[38;5;241;43m=\u001b[39;49m\u001b[43m \u001b[49m\u001b[38;5;124;43m\"\u001b[39;49m\u001b[38;5;124;43m1dexpon_loss_history\u001b[39;49m\u001b[38;5;124;43m\"\u001b[39;49m\u001b[43m,\u001b[49m\n\u001b[1;32m     15\u001b[0m \u001b[43m    \u001b[49m\u001b[43mplot_path\u001b[49m\u001b[43m    \u001b[49m\u001b[38;5;241;43m=\u001b[39;49m\u001b[43m \u001b[49m\u001b[43mPLOT_PATH\u001b[49m\u001b[43m,\u001b[49m\n\u001b[1;32m     16\u001b[0m \u001b[43m    \u001b[49m\u001b[43mplot_format\u001b[49m\u001b[43m  \u001b[49m\u001b[38;5;241;43m=\u001b[39;49m\u001b[43m \u001b[49m\u001b[38;5;124;43m\"\u001b[39;49m\u001b[38;5;124;43mpng\u001b[39;49m\u001b[38;5;124;43m\"\u001b[39;49m\u001b[43m,\u001b[49m\n\u001b[1;32m     17\u001b[0m \u001b[43m    \u001b[49m\u001b[43mreturn_fig\u001b[49m\u001b[43m   \u001b[49m\u001b[38;5;241;43m=\u001b[39;49m\u001b[43m \u001b[49m\u001b[38;5;28;43;01mFalse\u001b[39;49;00m\n\u001b[1;32m     18\u001b[0m \u001b[43m)\u001b[49m\n",
      "File \u001b[0;32m~/NPLM.torch/notebooks/../src/plot_utils.py:556\u001b[0m, in \u001b[0;36mplot_loss_history\u001b[0;34m(n_epochs, loss_history, epochs_init, epochs_norm, figsize, fontsize, color, lw, cms, cms_label, cms_rlabel, grid, xlabel, ylabel, show_plot, save_plot, plot_name, plot_path, plot_format, return_fig, constrained)\u001b[0m\n\u001b[1;32m    553\u001b[0m set_label_font(ax\u001b[38;5;241m=\u001b[39max, fontsize\u001b[38;5;241m=\u001b[39mfontsize)\n\u001b[1;32m    554\u001b[0m set_tick_font(ax\u001b[38;5;241m=\u001b[39max, fontsize\u001b[38;5;241m=\u001b[39mfontsize)\n\u001b[0;32m--> 556\u001b[0m \u001b[43max\u001b[49m\u001b[38;5;241;43m.\u001b[39;49m\u001b[43mplot\u001b[49m\u001b[43m(\u001b[49m\u001b[43mnp\u001b[49m\u001b[38;5;241;43m.\u001b[39;49m\u001b[43marange\u001b[49m\u001b[43m(\u001b[49m\u001b[43mepochs_init\u001b[49m\u001b[43m,\u001b[49m\u001b[43m \u001b[49m\u001b[43mn_epochs\u001b[49m\u001b[43m)\u001b[49m\u001b[43m \u001b[49m\u001b[38;5;241;43m/\u001b[39;49m\u001b[43m \u001b[49m\u001b[43mepochs_norm\u001b[49m\u001b[43m,\u001b[49m\u001b[43m \u001b[49m\u001b[43mloss_history\u001b[49m\u001b[43m[\u001b[49m\u001b[43mepochs_init\u001b[49m\u001b[43m:\u001b[49m\u001b[43m]\u001b[49m\u001b[43m,\u001b[49m\u001b[43m \u001b[49m\u001b[43mlw\u001b[49m\u001b[38;5;241;43m=\u001b[39;49m\u001b[43mlw\u001b[49m\u001b[43m,\u001b[49m\u001b[43m \u001b[49m\u001b[43mcolor\u001b[49m\u001b[38;5;241;43m=\u001b[39;49m\u001b[43mcolor\u001b[49m\u001b[43m)\u001b[49m\n\u001b[1;32m    558\u001b[0m ax\u001b[38;5;241m.\u001b[39mset_xlabel(xlabel, fontsize\u001b[38;5;241m=\u001b[39mfontsize)\n\u001b[1;32m    559\u001b[0m ax\u001b[38;5;241m.\u001b[39mset_ylabel(ylabel, fontsize\u001b[38;5;241m=\u001b[39mfontsize)\n",
      "File \u001b[0;32m~/miniconda3/envs/nplm-env/lib/python3.11/site-packages/matplotlib/axes/_axes.py:1721\u001b[0m, in \u001b[0;36mAxes.plot\u001b[0;34m(self, scalex, scaley, data, *args, **kwargs)\u001b[0m\n\u001b[1;32m   1478\u001b[0m \u001b[38;5;250m\u001b[39m\u001b[38;5;124;03m\"\"\"\u001b[39;00m\n\u001b[1;32m   1479\u001b[0m \u001b[38;5;124;03mPlot y versus x as lines and/or markers.\u001b[39;00m\n\u001b[1;32m   1480\u001b[0m \n\u001b[0;32m   (...)\u001b[0m\n\u001b[1;32m   1718\u001b[0m \u001b[38;5;124;03m(``'green'``) or hex strings (``'#008000'``).\u001b[39;00m\n\u001b[1;32m   1719\u001b[0m \u001b[38;5;124;03m\"\"\"\u001b[39;00m\n\u001b[1;32m   1720\u001b[0m kwargs \u001b[38;5;241m=\u001b[39m cbook\u001b[38;5;241m.\u001b[39mnormalize_kwargs(kwargs, mlines\u001b[38;5;241m.\u001b[39mLine2D)\n\u001b[0;32m-> 1721\u001b[0m lines \u001b[38;5;241m=\u001b[39m [\u001b[38;5;241m*\u001b[39m\u001b[38;5;28mself\u001b[39m\u001b[38;5;241m.\u001b[39m_get_lines(\u001b[38;5;28mself\u001b[39m, \u001b[38;5;241m*\u001b[39margs, data\u001b[38;5;241m=\u001b[39mdata, \u001b[38;5;241m*\u001b[39m\u001b[38;5;241m*\u001b[39mkwargs)]\n\u001b[1;32m   1722\u001b[0m \u001b[38;5;28;01mfor\u001b[39;00m line \u001b[38;5;129;01min\u001b[39;00m lines:\n\u001b[1;32m   1723\u001b[0m     \u001b[38;5;28mself\u001b[39m\u001b[38;5;241m.\u001b[39madd_line(line)\n",
      "File \u001b[0;32m~/miniconda3/envs/nplm-env/lib/python3.11/site-packages/matplotlib/axes/_base.py:303\u001b[0m, in \u001b[0;36m_process_plot_var_args.__call__\u001b[0;34m(self, axes, data, *args, **kwargs)\u001b[0m\n\u001b[1;32m    301\u001b[0m     this \u001b[38;5;241m+\u001b[39m\u001b[38;5;241m=\u001b[39m args[\u001b[38;5;241m0\u001b[39m],\n\u001b[1;32m    302\u001b[0m     args \u001b[38;5;241m=\u001b[39m args[\u001b[38;5;241m1\u001b[39m:]\n\u001b[0;32m--> 303\u001b[0m \u001b[38;5;28;01myield from\u001b[39;00m \u001b[38;5;28;43mself\u001b[39;49m\u001b[38;5;241;43m.\u001b[39;49m\u001b[43m_plot_args\u001b[49m\u001b[43m(\u001b[49m\n\u001b[1;32m    304\u001b[0m \u001b[43m    \u001b[49m\u001b[43maxes\u001b[49m\u001b[43m,\u001b[49m\u001b[43m \u001b[49m\u001b[43mthis\u001b[49m\u001b[43m,\u001b[49m\u001b[43m \u001b[49m\u001b[43mkwargs\u001b[49m\u001b[43m,\u001b[49m\u001b[43m \u001b[49m\u001b[43mambiguous_fmt_datakey\u001b[49m\u001b[38;5;241;43m=\u001b[39;49m\u001b[43mambiguous_fmt_datakey\u001b[49m\u001b[43m)\u001b[49m\n",
      "File \u001b[0;32m~/miniconda3/envs/nplm-env/lib/python3.11/site-packages/matplotlib/axes/_base.py:499\u001b[0m, in \u001b[0;36m_process_plot_var_args._plot_args\u001b[0;34m(self, axes, tup, kwargs, return_kwargs, ambiguous_fmt_datakey)\u001b[0m\n\u001b[1;32m    496\u001b[0m     axes\u001b[38;5;241m.\u001b[39myaxis\u001b[38;5;241m.\u001b[39mupdate_units(y)\n\u001b[1;32m    498\u001b[0m \u001b[38;5;28;01mif\u001b[39;00m x\u001b[38;5;241m.\u001b[39mshape[\u001b[38;5;241m0\u001b[39m] \u001b[38;5;241m!=\u001b[39m y\u001b[38;5;241m.\u001b[39mshape[\u001b[38;5;241m0\u001b[39m]:\n\u001b[0;32m--> 499\u001b[0m     \u001b[38;5;28;01mraise\u001b[39;00m \u001b[38;5;167;01mValueError\u001b[39;00m(\u001b[38;5;124mf\u001b[39m\u001b[38;5;124m\"\u001b[39m\u001b[38;5;124mx and y must have same first dimension, but \u001b[39m\u001b[38;5;124m\"\u001b[39m\n\u001b[1;32m    500\u001b[0m                      \u001b[38;5;124mf\u001b[39m\u001b[38;5;124m\"\u001b[39m\u001b[38;5;124mhave shapes \u001b[39m\u001b[38;5;132;01m{\u001b[39;00mx\u001b[38;5;241m.\u001b[39mshape\u001b[38;5;132;01m}\u001b[39;00m\u001b[38;5;124m and \u001b[39m\u001b[38;5;132;01m{\u001b[39;00my\u001b[38;5;241m.\u001b[39mshape\u001b[38;5;132;01m}\u001b[39;00m\u001b[38;5;124m\"\u001b[39m)\n\u001b[1;32m    501\u001b[0m \u001b[38;5;28;01mif\u001b[39;00m x\u001b[38;5;241m.\u001b[39mndim \u001b[38;5;241m>\u001b[39m \u001b[38;5;241m2\u001b[39m \u001b[38;5;129;01mor\u001b[39;00m y\u001b[38;5;241m.\u001b[39mndim \u001b[38;5;241m>\u001b[39m \u001b[38;5;241m2\u001b[39m:\n\u001b[1;32m    502\u001b[0m     \u001b[38;5;28;01mraise\u001b[39;00m \u001b[38;5;167;01mValueError\u001b[39;00m(\u001b[38;5;124mf\u001b[39m\u001b[38;5;124m\"\u001b[39m\u001b[38;5;124mx and y can be no greater than 2D, but have \u001b[39m\u001b[38;5;124m\"\u001b[39m\n\u001b[1;32m    503\u001b[0m                      \u001b[38;5;124mf\u001b[39m\u001b[38;5;124m\"\u001b[39m\u001b[38;5;124mshapes \u001b[39m\u001b[38;5;132;01m{\u001b[39;00mx\u001b[38;5;241m.\u001b[39mshape\u001b[38;5;132;01m}\u001b[39;00m\u001b[38;5;124m and \u001b[39m\u001b[38;5;132;01m{\u001b[39;00my\u001b[38;5;241m.\u001b[39mshape\u001b[38;5;132;01m}\u001b[39;00m\u001b[38;5;124m\"\u001b[39m)\n",
      "\u001b[0;31mValueError\u001b[0m: x and y must have same first dimension, but have shapes (299650,) and (333144,)"
     ]
    },
    {
     "data": {
      "image/png": "[encoded data removed]",
      "text/plain": [
       "<Figure size 1000x800 with 1 Axes>"
      ]
     },
     "metadata": {},
     "output_type": "display_data"
    }
   ],
   "source": [
    "plot_loss_history(\n",
    "    n_epochs     = N_EPOCHS,\n",
    "    loss_history = nplm_model.get_losses(),\n",
    "    epochs_init  = 350,\n",
    "    epochs_norm  = 1000,\n",
    "    figsize      = FIGSIZE,\n",
    "    fontsize     = FONTSIZE,\n",
    "    cms          = False,\n",
    "    color        = PALETTE_2[1],\n",
    "    xlabel       = r\"Epochs $\\times 10^3$\",\n",
    "    ylabel       = \"Loss\",\n",
    "    show_plot    = True,\n",
    "    save_plot    = False,\n",
    "    plot_name    = \"1dexpon_loss_history\",\n",
    "    plot_path    = PLOT_PATH,\n",
    "    plot_format  = \"png\",\n",
    "    return_fig   = False\n",
    ")"
   ]
  },
  {
   "cell_type": "markdown",
   "metadata": {},
   "source": [
    "### Reconstruction"
   ]
  },
  {
   "cell_type": "code",
   "execution_count": null,
   "metadata": {},
   "outputs": [],
   "source": [
    "xgrid = torch.arange(bins[0], bins[-1]+0.01, 0.01).to(device)\n",
    "\n",
    "with torch.no_grad():\n",
    "    pred = nplm_model(feature[target[:, 0] == 0].to(device))\n",
    "    grid_pred = nplm_model(xgrid.view(-1, 1))"
   ]
  },
  {
   "cell_type": "markdown",
   "metadata": {},
   "source": [
    "## control the dataset"
   ]
  },
  {
   "cell_type": "code",
   "execution_count": 114,
   "metadata": {},
   "outputs": [
    {
     "data": {
      "text/plain": [
       "tensor([[ 1.0285, -0.2437,  0.7733,  0.4866,  0.3274],\n",
       "        [-0.3591,  0.4164,  0.0286,  0.5130,  0.0774],\n",
       "        [ 2.0961, -1.3947,  0.6685,  1.0887, -0.6643],\n",
       "        ...,\n",
       "        [-0.1588,  0.6694,  0.5620, -0.0778,  0.2592],\n",
       "        [ 0.8684,  0.4016, -1.0858, -1.0000,  1.5308],\n",
       "        [ 1.2523, -0.3689,  1.1869,  0.6257, -1.4760]], dtype=torch.float64)"
      ]
     },
     "execution_count": 114,
     "metadata": {},
     "output_type": "execute_result"
    }
   ],
   "source": [
    "ref_dataset[0]"
   ]
  },
  {
   "cell_type": "code",
   "execution_count": 115,
   "metadata": {},
   "outputs": [
    {
     "data": {
      "text/plain": [
       "tensor([[-0.2943,  0.4220, -0.5373,  0.3895,  0.2389],\n",
       "        [-0.7105, -1.7789, -0.1202,  1.8504, -0.7877],\n",
       "        [-0.0159,  0.6729,  1.8878,  1.8107,  0.0545],\n",
       "        ...,\n",
       "        [ 0.9629,  0.0805, -0.2118, -0.6453,  1.2292],\n",
       "        [ 2.3496, -0.8888,  0.3369,  0.7248,  1.6235],\n",
       "        [-0.2332, -0.3873, -0.5667,  0.4198, -0.3535]])"
      ]
     },
     "execution_count": 115,
     "metadata": {},
     "output_type": "execute_result"
    }
   ],
   "source": [
    "f"
   ]
  },
  {
   "cell_type": "code",
   "execution_count": 116,
   "metadata": {},
   "outputs": [
    {
     "data": {
      "text/plain": [
       "tensor([-0.2943, -0.7105, -0.0159,  ...,  0.9629,  2.3496, -0.2332])"
      ]
     },
     "execution_count": 116,
     "metadata": {},
     "output_type": "execute_result"
    }
   ],
   "source": [
    "f[:,0]"
   ]
  },
  {
   "cell_type": "code",
   "execution_count": 117,
   "metadata": {},
   "outputs": [
    {
     "data": {
      "image/png": "[encoded data removed]",
      "text/plain": [
       "<Figure size 1000x1000 with 1 Axes>"
      ]
     },
     "metadata": {},
     "output_type": "display_data"
    }
   ],
   "source": [
    "plt.hist(f[:,0], bins=100)\n",
    "plt.show()"
   ]
  },
  {
   "cell_type": "code",
   "execution_count": 118,
   "metadata": {},
   "outputs": [
    {
     "data": {
      "image/png": "[encoded data removed]",
      "text/plain": [
       "<Figure size 1000x1000 with 1 Axes>"
      ]
     },
     "metadata": {},
     "output_type": "display_data"
    }
   ],
   "source": [
    "plt.hist(ref_dataset_NN[0][:,0], bins=100)\n",
    "plt.show()"
   ]
  },
  {
   "cell_type": "code",
   "execution_count": null,
   "metadata": {},
   "outputs": [],
   "source": []
  },
  {
   "cell_type": "code",
   "execution_count": null,
   "metadata": {},
   "outputs": [],
   "source": []
  }
 ],
 "metadata": {
  "kernelspec": {
   "display_name": "torch112",
   "language": "python",
   "name": "python3"
  },
  "language_info": {
   "codemirror_mode": {
    "name": "ipython",
    "version": 3
   },
   "file_extension": ".py",
   "mimetype": "text/x-python",
   "name": "python",
   "nbconvert_exporter": "python",
   "pygments_lexer": "ipython3",
   "version": "3.11.7"
  }
 },
 "nbformat": 4,
 "nbformat_minor": 2
}
