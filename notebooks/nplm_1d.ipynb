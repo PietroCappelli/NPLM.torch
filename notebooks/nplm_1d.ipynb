{
 "cells": [
  {
   "cell_type": "markdown",
   "metadata": {},
   "source": [
    "# NPLM Test notebook"
   ]
  },
  {
   "cell_type": "markdown",
   "metadata": {},
   "source": [
    "## Imports"
   ]
  },
  {
   "cell_type": "code",
   "execution_count": 1,
   "metadata": {},
   "outputs": [],
   "source": [
    "import torch \n",
    "import h5py\n",
    "import os \n",
    "import sys\n",
    "\n",
    "import scipy.stats as stats\n",
    "import numpy as np\n",
    "import matplotlib as mpl\n",
    "import matplotlib.pyplot as plt\n",
    "import mplhep as hep"
   ]
  },
  {
   "cell_type": "code",
   "execution_count": 2,
   "metadata": {},
   "outputs": [],
   "source": [
    "sys.path.insert(0, \"../src\")\n",
    "from plot_utils import plot_ref_data, plot_ref_data_reco, plot_loss_history\n",
    "from analysis_utils import compute_df, produce_bins, save_binning, load_binning\n",
    "from nn_utils import NPLMnetwork, loss_function"
   ]
  },
  {
   "cell_type": "markdown",
   "metadata": {},
   "source": [
    "## Config"
   ]
  },
  {
   "cell_type": "code",
   "execution_count": 3,
   "metadata": {},
   "outputs": [
    {
     "name": "stdout",
     "output_type": "stream",
     "text": [
      "cpu\n"
     ]
    }
   ],
   "source": [
    "# use gpu if available\n",
    "# device = torch.device(\"cuda\" if torch.cuda.is_available() else \"cpu\")\n",
    "device = torch.device(\"cpu\")\n",
    "print(device)"
   ]
  },
  {
   "cell_type": "code",
   "execution_count": 4,
   "metadata": {},
   "outputs": [],
   "source": [
    "hep.style.use(hep.style.CMS)"
   ]
  },
  {
   "cell_type": "markdown",
   "metadata": {},
   "source": [
    "## Constants"
   ]
  },
  {
   "cell_type": "code",
   "execution_count": 5,
   "metadata": {},
   "outputs": [],
   "source": [
    "# Set random seed\n",
    "SEED = 1231244\n",
    "torch.manual_seed(SEED)\n",
    "np.random.seed(SEED)\n",
    "\n",
    "# Plotting parameters\n",
    "FONTSIZE  = 24\n",
    "FIGSIZE   = (10, 8)\n",
    "RATIOSIZE = (10, 10)\n",
    "PALETTE_1 = [\n",
    "    \"#1f77b4\", # 0\n",
    "    \"#4876bf\", # 1 \n",
    "    \"#6c74c5\", # 2\n",
    "    \"#8f6fc6\", # 3\n",
    "    \"#b067c0\", # 4\n",
    "    \"#cd5fb4\", # 5\n",
    "    \"#e657a3\", # 6\n",
    "    \"#f9528d\", # 7\n",
    "    \"#ff5474\", # 8\n",
    "    \"#ff5d58\", # 9\n",
    "    \"#ff6c3a\", # 10\n",
    "    \"#ff7f0e\", # 11\n",
    "]\n",
    "PALETTE_2 = [\n",
    "    \"#494B69\", # 0\n",
    "    \"#695D7A\", # 1\n",
    "    \"#9F5B72\", # 2\n",
    "    \"#D8707C\", # 3\n",
    "    \"#FDA85A\", # 4\n",
    "    \"#FDCD5A\", # 5\n",
    "]\n",
    "PALETTE_3 = [\n",
    "    \"midnightblue\",   # 0\n",
    "    \"#1f78b4\",        # 1\n",
    "    \"lightseagreen\",  # 2\n",
    "    \"mediumseagreen\", # 3\n",
    "    \"darkseagreen\",   # 4\n",
    "]\n",
    "\n",
    "# Statistics                                                                                                                                                   \n",
    "N_REF      = 200000\n",
    "N_BKG      = 2000\n",
    "N_SIG      = 0  \n",
    "SIG_LOC    = 6.4\n",
    "SIG_STD    = 0.16\n",
    "# Samples weights N_D/N_R\n",
    "N_R        = N_REF\n",
    "N_D        = N_BKG\n",
    "\n",
    "# Training parameters\n",
    "N_EPOCHS   = 200000\n",
    "PATIENCE   = 5000\n",
    "\n",
    "# Network parameters\n",
    "N_INPUTS     = 1\n",
    "N_OUTPUTS    = 1\n",
    "ARCHITECTURE = [N_INPUTS, 4, N_OUTPUTS]\n",
    "WCLIP        = 9\n",
    "ACTIVATION   = torch.nn.Sigmoid()\n",
    "\n",
    "\n",
    "PLOT_PATH = \"./plots/\"\n",
    "if not os.path.exists(PLOT_PATH):\n",
    "    os.makedirs(PLOT_PATH)\n",
    "    \n",
    "DATA_PATH = \"./data/\"\n",
    "if not os.path.exists(DATA_PATH):\n",
    "    os.makedirs(DATA_PATH)"
   ]
  },
  {
   "cell_type": "markdown",
   "metadata": {},
   "source": [
    "## Classes"
   ]
  },
  {
   "cell_type": "markdown",
   "metadata": {},
   "source": [
    "## Functions"
   ]
  },
  {
   "cell_type": "markdown",
   "metadata": {},
   "source": [
    "## NPLM"
   ]
  },
  {
   "cell_type": "markdown",
   "metadata": {},
   "source": [
    "### Generate 1D data"
   ]
  },
  {
   "cell_type": "code",
   "execution_count": 6,
   "metadata": {},
   "outputs": [],
   "source": [
    "# poisson fluctuate the number of events in each sample\n",
    "N_bkg_p = int(torch.distributions.Poisson(rate=N_BKG).sample())\n",
    "N_sig_p = int(torch.distributions.Poisson(rate=N_SIG).sample())\n",
    "\n",
    "# the reference rate will not have nuisance parameters\n",
    "feature_ref_dist = torch.distributions.Exponential(rate=1)\n",
    "\n",
    "# the data rate will have nuisance parameters   \n",
    "feature_bkg_dist = torch.distributions.Exponential(rate=1)\n",
    "feature_sig_dist = torch.distributions.Normal(loc=SIG_LOC, scale=SIG_STD)"
   ]
  },
  {
   "cell_type": "code",
   "execution_count": 11,
   "metadata": {},
   "outputs": [
    {
     "name": "stdout",
     "output_type": "stream",
     "text": [
      "torch.Size([201966, 1])\n"
     ]
    }
   ],
   "source": [
    "feature_ref  = feature_ref_dist.sample((N_REF,1))\n",
    "feature_data = torch.cat(\n",
    "    (\n",
    "        feature_bkg_dist.sample((N_bkg_p, 1)),\n",
    "        feature_sig_dist.sample((N_sig_p, 1))\n",
    "    )\n",
    ")\n",
    "\n",
    "feature = torch.cat((feature_ref, feature_data), dim=0)\n",
    "\n",
    "target_ref  = torch.zeros((N_REF, 1))\n",
    "target_data = torch.ones((N_bkg_p + N_sig_p, 1))\n",
    "\n",
    "target = torch.cat((target_ref, target_data), dim=0)\n",
    "print(target.shape)\n",
    "\n",
    "weights_ref  = torch.ones((N_REF, 1)) * (N_D / N_R)\n",
    "weights_data = torch.ones((N_bkg_p + N_sig_p, 1))\n",
    "\n",
    "weights = torch.cat((weights_ref, weights_data), dim=0)\n",
    "\n",
    "# concatenate the weights to the target\n",
    "target = torch.cat((target, weights), dim=1)"
   ]
  },
  {
   "cell_type": "code",
   "execution_count": 10,
   "metadata": {},
   "outputs": [
    {
     "name": "stdout",
     "output_type": "stream",
     "text": [
      "torch.Size([201966, 1])\n",
      "torch.Size([201966, 1])\n",
      "torch.Size([201966, 2])\n"
     ]
    }
   ],
   "source": [
    "print(weights.shape)\n",
    "print(feature.shape)\n",
    "print(target.shape)"
   ]
  },
  {
   "cell_type": "markdown",
   "metadata": {},
   "source": [
    "### Plot 1D data"
   ]
  },
  {
   "cell_type": "code",
   "execution_count": null,
   "metadata": {},
   "outputs": [],
   "source": [
    "# bins = load_binning(path=DATA_PATH, name=\"binning_1dexpon.h5\")\n",
    "bins = produce_bins(data=feature_ref, method=\"simple\", bins_range=(0, 10), bins_width=0.25)"
   ]
  },
  {
   "cell_type": "code",
   "execution_count": null,
   "metadata": {},
   "outputs": [],
   "source": [
    "plot_ref_data(\n",
    "    feature_ref   = feature[target[:, 0] == 0],\n",
    "    feature_data  = feature[target[:, 0] == 1],\n",
    "    weights_ref   = target[target[:, 0] == 0, 1],\n",
    "    weights_data  = target[target[:, 0] == 1, 1],\n",
    "    figsize       = FIGSIZE,\n",
    "    bins          = bins,\n",
    "    ratio         = True,\n",
    "    fontsize      = FONTSIZE,\n",
    "    cms           = False,\n",
    "    color_ref     = PALETTE_2[0],\n",
    "    color_data    = \"black\",\n",
    "    ref_hist_type = \"stepfilled\",\n",
    "    ref_label     = \"Reference\",\n",
    "    data_label    = \"Data\",\n",
    "    ref_alpha     = 0.4,\n",
    "    xlabel        = \"Feature\",\n",
    "    ylabel        = \"Events\",\n",
    "    ratio_ylabel  = \"Ratio\",\n",
    "    hist_yscale   = \"log\",\n",
    "    ratio_yscale  = \"linear\",\n",
    "    show_plot     = True,\n",
    "    save_plot     = False,\n",
    "    return_fig    = False\n",
    ")\n"
   ]
  },
  {
   "cell_type": "markdown",
   "metadata": {},
   "source": [
    "### Create NPLM model"
   ]
  },
  {
   "cell_type": "code",
   "execution_count": null,
   "metadata": {},
   "outputs": [],
   "source": [
    "nplm_model = NPLMnetwork(\n",
    "    architecture      = ARCHITECTURE,\n",
    "    activation_func   = ACTIVATION,\n",
    "    weight_clip_value = WCLIP,\n",
    "    trainable         = True,\n",
    "    device            = device\n",
    ").to(device)\n",
    "\n",
    "optimizer = torch.optim.Adam(nplm_model.parameters(), lr=0.001)"
   ]
  },
  {
   "cell_type": "code",
   "execution_count": null,
   "metadata": {},
   "outputs": [],
   "source": [
    "dof = compute_df(ARCHITECTURE)\n",
    "print(dof)"
   ]
  },
  {
   "cell_type": "markdown",
   "metadata": {},
   "source": [
    "### Train NPLM model"
   ]
  },
  {
   "cell_type": "code",
   "execution_count": null,
   "metadata": {},
   "outputs": [],
   "source": [
    "nplm_model.train_model(\n",
    "    feature       = feature,\n",
    "    target        = target,\n",
    "    loss_function = loss_function,\n",
    "    optimizer     = optimizer,\n",
    "    n_epochs      = N_EPOCHS,\n",
    "    patience      = PATIENCE,\n",
    ")"
   ]
  },
  {
   "cell_type": "markdown",
   "metadata": {},
   "source": [
    "### Loss function plot"
   ]
  },
  {
   "cell_type": "code",
   "execution_count": null,
   "metadata": {},
   "outputs": [],
   "source": [
    "plot_loss_history(\n",
    "    n_epochs     = N_EPOCHS,\n",
    "    loss_history = nplm_model.get_losses(),\n",
    "    epochs_init  = 350,\n",
    "    epochs_norm  = 1000,\n",
    "    figsize      = FIGSIZE,\n",
    "    fontsize     = FONTSIZE,\n",
    "    cms          = False,\n",
    "    color        = PALETTE_2[1],\n",
    "    xlabel       = r\"Epochs $\\times 10^3$\",\n",
    "    ylabel       = \"Loss\",\n",
    "    show_plot    = True,\n",
    "    save_plot    = False,\n",
    "    plot_name    = \"1dexpon_loss_history\",\n",
    "    plot_path    = PLOT_PATH,\n",
    "    plot_format  = \"png\",\n",
    "    return_fig   = False\n",
    ")"
   ]
  },
  {
   "cell_type": "markdown",
   "metadata": {},
   "source": [
    "### Reconstruction"
   ]
  },
  {
   "cell_type": "code",
   "execution_count": null,
   "metadata": {},
   "outputs": [],
   "source": [
    "xgrid = torch.arange(bins[0], bins[-1]+0.01, 0.01).to(device)\n",
    "\n",
    "with torch.no_grad():\n",
    "    pred = nplm_model(feature[target[:, 0] == 0].to(device))\n",
    "    grid_pred = nplm_model(xgrid.view(-1, 1))"
   ]
  },
  {
   "cell_type": "code",
   "execution_count": null,
   "metadata": {},
   "outputs": [],
   "source": [
    "plot_ref_data_reco(\n",
    "    feature_ref    = feature[target[:, 0] == 0].cpu(),\n",
    "    feature_data   = feature[target[:, 0] == 1].cpu(),\n",
    "    weights_ref    = target[target[:, 0] == 0, 1].cpu(),\n",
    "    weights_data   = target[target[:, 0] == 1, 1].cpu(),\n",
    "    prediction_ref = pred.cpu(),\n",
    "    figsize        = FIGSIZE,\n",
    "    bins           = bins,\n",
    "    ratio          = True,\n",
    "    fontsize       = FONTSIZE,\n",
    "    cms            = False,\n",
    "    color_ref      = PALETTE_2[0],\n",
    "    color_data     = \"black\",\n",
    "    ref_hist_type  = \"stepfilled\",\n",
    "    pred_hist_type = \"step\",\n",
    "    ref_label      = \"Reference\",\n",
    "    data_label     = \"Data\",\n",
    "    ref_alpha      = 0.4,\n",
    "    color_reco     = PALETTE_2[4],\n",
    "    reco_label     = \"Reconstructed\",\n",
    "    lw_reco        = 6,\n",
    "    alpha_reco     = 0.8,\n",
    "    xlabel         = \"Feature\",\n",
    "    ylabel         = \"Events\",\n",
    "    ratio_ylabel   = \"Ratio\",\n",
    "    hist_yscale    = \"log\",\n",
    "    ratio_yscale   = \"linear\",\n",
    "    show_plot      = True,\n",
    "    save_plot      = False,\n",
    "    plot_name      = \"1dexpon_reco_binned_bayesianblocks\",\n",
    "    plot_path      = PLOT_PATH,\n",
    "    plot_format    = \"png\",\n",
    "    return_fig     = False,\n",
    "    binned_reco    = False,\n",
    "    grid_reco      = xgrid.cpu(),\n",
    "    grid_pred      = grid_pred.cpu().detach().numpy(),\n",
    ")"
   ]
  },
  {
   "cell_type": "markdown",
   "metadata": {},
   "source": [
    "## Load model"
   ]
  },
  {
   "cell_type": "code",
   "execution_count": null,
   "metadata": {},
   "outputs": [],
   "source": [
    "out_PATH = \"../output/test/1D/NRef_200000_NBkg_2000_NSig_10_SigLoc_6.4_SigStd_0.16_Epochs_200000_Patience_5000_WClip_9_Arch_1_4_1/2024_1_26_15_3_20_952603/\"\n",
    "\n",
    "loss_history = torch.load(out_PATH + \"1_losses.pth\")\n",
    "weights = torch.load(out_PATH + \"1_nplm_weights.pth\")\n",
    "\n",
    "nplm_model = NPLMnetwork(\n",
    "    architecture      = ARCHITECTURE,\n",
    "    activation_func   = ACTIVATION,\n",
    "    weight_clip_value = WCLIP,\n",
    "    trainable         = False\n",
    ")\n",
    "\n",
    "nplm_model.load_state_dict(weights)\n",
    "\n"
   ]
  },
  {
   "cell_type": "code",
   "execution_count": null,
   "metadata": {},
   "outputs": [],
   "source": [
    "plot_loss_history(\n",
    "    n_epochs     = N_EPOCHS,\n",
    "    loss_history = loss_history,\n",
    "    epochs_init  = 350,\n",
    "    epochs_norm  = 1000,\n",
    "    figsize      = (14, 10),\n",
    "    fontsize     = FONTSIZE,\n",
    "    cms          = False,\n",
    "    color        = PALETTE_2[1],\n",
    "    xlabel       = r\"Epochs $\\times 10^3$\",\n",
    "    ylabel       = \"Loss\",\n",
    "    show_plot    = True,\n",
    "    save_plot    = False,\n",
    "    plot_name    = \"1dexpon_loss_history\",\n",
    "    plot_path    = PLOT_PATH,\n",
    "    plot_format  = \"png\",\n",
    "    return_fig   = False\n",
    ")"
   ]
  },
  {
   "cell_type": "code",
   "execution_count": null,
   "metadata": {},
   "outputs": [],
   "source": []
  },
  {
   "cell_type": "code",
   "execution_count": null,
   "metadata": {},
   "outputs": [],
   "source": []
  }
 ],
 "metadata": {
  "kernelspec": {
   "display_name": "torch112",
   "language": "python",
   "name": "python3"
  },
  "language_info": {
   "codemirror_mode": {
    "name": "ipython",
    "version": 3
   },
   "file_extension": ".py",
   "mimetype": "text/x-python",
   "name": "python",
   "nbconvert_exporter": "python",
   "pygments_lexer": "ipython3",
   "version": "3.11.7"
  }
 },
 "nbformat": 4,
 "nbformat_minor": 2
}
