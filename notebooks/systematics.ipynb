{
 "cells": [
  {
   "cell_type": "markdown",
   "metadata": {},
   "source": [
    "# 1D Systematics treatment"
   ]
  },
  {
   "cell_type": "markdown",
   "metadata": {},
   "source": [
    "## Imports"
   ]
  },
  {
   "cell_type": "code",
   "execution_count": 1,
   "metadata": {},
   "outputs": [],
   "source": [
    "import torch \n",
    "import h5py\n",
    "import os \n",
    "import sys\n",
    "\n",
    "import scipy.stats as stats\n",
    "import numpy as np\n",
    "import matplotlib as mpl\n",
    "import matplotlib.pyplot as plt\n",
    "import mplhep as hep\n",
    "\n",
    "sys.path.insert(0, \"/home/lai/nplm/src\")\n",
    "from plot_utils import plot_ref_data, plot_ref_data_reco, plot_loss_history\n",
    "from analysis_utils import compute_df, produce_bins, save_binning, load_binning"
   ]
  },
  {
   "cell_type": "markdown",
   "metadata": {},
   "source": [
    "## Config"
   ]
  },
  {
   "cell_type": "code",
   "execution_count": 2,
   "metadata": {},
   "outputs": [
    {
     "name": "stdout",
     "output_type": "stream",
     "text": [
      "cuda\n"
     ]
    }
   ],
   "source": [
    "# use gpu if available\n",
    "device = torch.device(\"cuda\" if torch.cuda.is_available() else \"cpu\")\n",
    "print(device)"
   ]
  },
  {
   "cell_type": "code",
   "execution_count": 3,
   "metadata": {},
   "outputs": [],
   "source": [
    "hep.style.use(hep.style.CMS)"
   ]
  },
  {
   "cell_type": "markdown",
   "metadata": {},
   "source": [
    "## Constants"
   ]
  },
  {
   "cell_type": "code",
   "execution_count": 4,
   "metadata": {},
   "outputs": [],
   "source": [
    "# Set random seed\n",
    "SEED = 1231244\n",
    "torch.manual_seed(SEED)\n",
    "np.random.seed(SEED)\n",
    "\n",
    "# Plotting parameters\n",
    "FONTSIZE  = 24\n",
    "FIGSIZE   = (10, 8)\n",
    "PALETTE_1 = [\n",
    "    \"#1f77b4\", # 0\n",
    "    \"#4876bf\", # 1 \n",
    "    \"#6c74c5\", # 2\n",
    "    \"#8f6fc6\", # 3\n",
    "    \"#b067c0\", # 4\n",
    "    \"#cd5fb4\", # 5\n",
    "    \"#e657a3\", # 6\n",
    "    \"#f9528d\", # 7\n",
    "    \"#ff5474\", # 8\n",
    "    \"#ff5d58\", # 9\n",
    "    \"#ff6c3a\", # 10\n",
    "    \"#ff7f0e\", # 11\n",
    "]\n",
    "PALETTE_2 = [\n",
    "    \"#494B69\", # 0\n",
    "    \"#695D7A\", # 1\n",
    "    \"#9F5B72\", # 2\n",
    "    \"#D8707C\", # 3\n",
    "    \"#FDA85A\", # 4\n",
    "    \"#FDCD5A\", # 5\n",
    "]\n",
    "PALETTE_3 = [\n",
    "    \"midnightblue\",   # 0\n",
    "    \"#1f78b4\",        # 1\n",
    "    \"lightseagreen\",  # 2\n",
    "    \"mediumseagreen\", # 3\n",
    "    \"darkseagreen\",   # 4\n",
    "]\n",
    "\n",
    "# # Statistics                                                                                                                                                   \n",
    "# N_REF      = 200000\n",
    "# N_BKG      = 2000\n",
    "# N_SIG      = 10       \n",
    "# SIG_LOC    = 6.4\n",
    "# SIG_STD    = 0.16\n",
    "# # Samples weights N_D/N_R\n",
    "# N_R        = N_REF\n",
    "# N_D        = N_BKG\n",
    "\n",
    "# Systematics\n",
    "SIGMA_S = 0.2\n",
    "SIGMA_N = 0.2\n",
    "SCALE   = np.array([-2, -1, -0.5, 0, 0.5, 1, 2]) * SIGMA_S\n",
    "NORM    = np.array([-2, -1, -0.5, 0, 0.5, 1, 2]) * SIGMA_N\n",
    "\n",
    "# Training parameters\n",
    "N_EPOCHS   = 200000\n",
    "PATIENCE   = 5000\n",
    "\n",
    "# Network parameters\n",
    "N_INPUTS     = 1\n",
    "N_OUTPUTS    = 1\n",
    "ARCHITECTURE = [N_INPUTS, 4, N_OUTPUTS]\n",
    "WCLIP        = 9\n",
    "ACTIVATION   = torch.nn.Sigmoid()\n",
    "\n",
    "\n",
    "PLOT_PATH = \"./plots/\"\n",
    "if not os.path.exists(PLOT_PATH):\n",
    "    os.makedirs(PLOT_PATH)\n",
    "    \n",
    "DATA_PATH = \"./data/\"\n",
    "if not os.path.exists(DATA_PATH):\n",
    "    os.makedirs(DATA_PATH)"
   ]
  },
  {
   "cell_type": "markdown",
   "metadata": {},
   "source": [
    "## DATASETS"
   ]
  },
  {
   "cell_type": "code",
   "execution_count": 5,
   "metadata": {},
   "outputs": [],
   "source": [
    "# poisson fluctuate the number of events in each sample\n",
    "# datasets = {\n",
    "#     \"-2\":   np.random.exponential(scale=1*np.exp(SCALE[0]), size=(N_REF, 1)),\n",
    "#     \"-1\":   np.random.exponential(scale=1*np.exp(SCALE[1]), size=(N_REF, 1)),\n",
    "#     \"-0.5\": np.random.exponential(scale=1*np.exp(SCALE[2]), size=(N_REF, 1)),\n",
    "#     \"0\":    np.random.exponential(scale=1*np.exp(SCALE[3]), size=(N_REF, 1)),\n",
    "#     \"0.5\":  np.random.exponential(scale=1*np.exp(SCALE[4]), size=(N_REF, 1)),\n",
    "#     \"1\":    np.random.exponential(scale=1*np.exp(SCALE[5]), size=(N_REF, 1)),\n",
    "#     \"2\":    np.random.exponential(scale=1*np.exp(SCALE[6]), size=(N_REF, 1)),\n",
    "# }"
   ]
  },
  {
   "cell_type": "code",
   "execution_count": 6,
   "metadata": {},
   "outputs": [],
   "source": [
    "def read_data_with_nu(data_path: str, nu: float) -> np.ndarray:\n",
    "    \"\"\"\n",
    "    Read data from file .h5 \n",
    "    \"\"\"\n",
    "    fname = \"data_1dexpon_ref_nus_{nu}sigmas.h5\"\n",
    "    data_file= os.path.join(data_path, fname.format(nu=nu))\n",
    "    with h5py.File(data_file, \"r\") as f:\n",
    "        data = f[\"data\"][:]\n",
    "    \n",
    "    return data"
   ]
  },
  {
   "cell_type": "code",
   "execution_count": 15,
   "metadata": {},
   "outputs": [],
   "source": [
    "bins = load_binning(path=DATA_PATH, name=\"binning_1dexpon.h5\")"
   ]
  },
  {
   "cell_type": "markdown",
   "metadata": {},
   "source": [
    "### Central value"
   ]
  },
  {
   "cell_type": "code",
   "execution_count": 8,
   "metadata": {},
   "outputs": [],
   "source": [
    "ref     = read_data_with_nu(data_path=DATA_PATH, nu=0)\n",
    "w_ref   = np.ones_like(ref)\n",
    "n_ref   = ref.shape[0]\n",
    "idx_ref = np.arange(n_ref)"
   ]
  },
  {
   "cell_type": "markdown",
   "metadata": {},
   "source": [
    "### Nuisance variations"
   ]
  },
  {
   "cell_type": "code",
   "execution_count": 9,
   "metadata": {},
   "outputs": [],
   "source": [
    "feature     = np.array([])\n",
    "targets     = np.array([])\n",
    "weights     = np.array([])\n",
    "nuisance    = np.array([])\n",
    "nu_list     = np.array([-2, -1, -0.5, 0.5, 1, 2])\n",
    "nu_std      = np.std(nu_list)\n",
    "nu_list_std = nu_list*1./nu_std"
   ]
  },
  {
   "cell_type": "code",
   "execution_count": 11,
   "metadata": {},
   "outputs": [],
   "source": [
    "# for each value of the nuisance parameter:\n",
    "for nu in nu_list:\n",
    "    \n",
    "    # find the index of the nuisance parameter in the list\n",
    "    i = np.where(nu==nu_list)[0][0]\n",
    "    \n",
    "    # check if the nuisance parameter is 0.0 (should not be zero, but in case we catch this exception)\n",
    "    if nu==0:\n",
    "        muonpt_scale_str = '0.0'\n",
    "    else:\n",
    "        # save the scale of the nuisance parameter as a string\n",
    "        muonpt_scale_str=str(nu)\n",
    "        \n",
    "    # get the corresponding standard deviation of the nuisance parameter     \n",
    "    nu_std = nu_list_std[i]\n",
    "    \n",
    "    \n",
    "    data = read_data_with_nu(data_path=DATA_PATH, nu=nu)\n",
    "    w_data = np.ones_like(data)\n",
    "            \n",
    "    n_data   = data.shape[0]\n",
    "    idx_data = np.arange(n_data)\n",
    "    \n",
    "    # shuffle the data and reference samples\n",
    "    np.random.shuffle(idx_ref)\n",
    "    np.random.shuffle(idx_data)\n",
    "    \n",
    "    # create a mask for the data and reference samples with the correct luminosity scaling\n",
    "    mask_REF   = (idx_ref  < int(n_ref  * 0.20))\n",
    "    mask_DATA  = (idx_data < int(n_data * 0.20))\n",
    "    \n",
    "    \n",
    "    # features_nu is the concatenation of the reference and data samples along the 0th axis for one value of the nuisance parameter\n",
    "    feature_nu = np.concatenate((ref[mask_REF], data[mask_DATA]), axis=0)\n",
    "    \n",
    "    # targets_nu is the concatenation of the reference and data targets along the 0th axis for one value of the nuisance parameter\n",
    "    # zeros for the reference, central value, and ones for the data, shifted value of the nuisance parameter\n",
    "    targets_nu = np.append(np.zeros(ref[mask_REF].shape[0]), np.ones(data[mask_DATA].shape[0]))\n",
    "    \n",
    "    # nuisance_nu is the nuisance parameter std replicated for the total number of samples (reference + data)\n",
    "    nuisanc_nu = np.ones(feature_nu.shape[0])*nu_std\n",
    "    \n",
    "    # weights_nu is the concatenation of the reference and data weights along the 0th axis for one value of the nuisance parameter\n",
    "    weights_nu = np.append(w_ref[mask_REF], w_data[mask_DATA])\n",
    "    \n",
    "    \n",
    "    # if this is the first value of the nuisance parameter, set the feature, target, weight, year label, and nuisance parameter arrays to the values for this value of the nuisance parameter\n",
    "    if feature.shape[0]==0:\n",
    "        feature  = feature_nu\n",
    "        targets  = targets_nu\n",
    "        weights  = weights_nu\n",
    "        nuisance = nuisanc_nu\n",
    "        \n",
    "    # otherwise, concatenate the feature, target, weight, year label, and nuisance parameter arrays with the values for this value of the nuisance parameter\n",
    "    else:\n",
    "        feature  = np.concatenate((feature,  feature_nu), axis=0)\n",
    "        targets  = np.concatenate((targets,  targets_nu), axis=0)\n",
    "        weights  = np.concatenate((weights,  weights_nu), axis=0)\n",
    "        nuisance = np.concatenate((nuisance, nuisanc_nu), axis=0)"
   ]
  },
  {
   "cell_type": "code",
   "execution_count": 19,
   "metadata": {},
   "outputs": [
    {
     "data": {
      "image/png": "[encoded data removed]",
      "text/plain": [
       "<Figure size 1000x800 with 1 Axes>"
      ]
     },
     "metadata": {},
     "output_type": "display_data"
    }
   ],
   "source": [
    "histo_nu_list = []\n",
    "\n",
    "fig, ax = plt.subplots(1, 1, figsize=FIGSIZE, constrained_layout=True)\n",
    "ax.grid(True, which='major', axis='both', alpha=0.5, color='gray')\n",
    "ax.set_axisbelow(True)\n",
    "# draw_cms_label(ax)\n",
    "\n",
    "for nu_iter in range(len(nu_list)):\n",
    "    \n",
    "    nu     = nu_list[nu_iter]\n",
    "    nu_std = nu_list_std[nu_iter]\n",
    "    \n",
    "    lead_pt_nu    = feature[(nuisance==nu_std) & (targets==1)][:, 0]\n",
    "    lead_pt_w_nu  = weights[(nuisance==nu_std) & (targets==1)]\n",
    "    \n",
    "    histo         = ax.hist(lead_pt_nu, bins=bins, weights=lead_pt_w_nu, histtype='step', lw=2, label=r'$\\nu$ = %s'%(str(nu)), color=PALETTE_2[nu_iter])[0]\n",
    "    \n",
    "    histo_nu_list.append(histo)\n",
    "\n",
    "# lead_pt_ref    = feature[(targets==0)][:, 0]\n",
    "# lead_pt_w_ref  = weights[(targets==0)]*1./len(nu_list) # normalize the reference weights to the number of nuisance parameters\n",
    "\n",
    "# histo_ref_0    = ax.hist(lead_pt_ref, bins=bins, weights=lead_pt_w_ref, histtype='step', lw=2, label=r'$\\nu$ = %s'%(str(0)))[0]\n",
    "\n",
    "ax.legend(fontsize=FONTSIZE-6, loc='upper right')\n",
    "\n",
    "ax.set_yscale('log')\n",
    "\n",
    "# ax.set_xlabel(xlabel_dict['leadmupt'], fontsize=FONTSIZE)\n",
    "# ax.set_ylabel('Events', fontsize=FONTSIZE)\n",
    "# ax.tick_params(axis='both', which='major', labelsize=FONTSIZE-4)\n",
    "\n",
    "# ax.set_xlim(bins[0] - (bins[1] - bins[0])/2, bins[-1] + (bins[-1] - bins[-2])/2)\n",
    "\n",
    "# if PLOT:\n",
    "#     fig.savefig(os.path.join(PLOT_FOLDER, 'leadmupt_nuisance.pdf'), bbox_inches='tight', dpi=300, facecolor='w')\n",
    "\n",
    "plt.show()"
   ]
  }
 ],
 "metadata": {
  "kernelspec": {
   "display_name": "torch",
   "language": "python",
   "name": "python3"
  },
  "language_info": {
   "codemirror_mode": {
    "name": "ipython",
    "version": 3
   },
   "file_extension": ".py",
   "mimetype": "text/x-python",
   "name": "python",
   "nbconvert_exporter": "python",
   "pygments_lexer": "ipython3",
   "version": "3.11.5"
  }
 },
 "nbformat": 4,
 "nbformat_minor": 2
}
