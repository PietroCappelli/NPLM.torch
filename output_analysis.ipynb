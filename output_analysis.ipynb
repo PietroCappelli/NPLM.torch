{
 "cells": [
  {
   "cell_type": "code",
   "execution_count": 1,
   "metadata": {},
   "outputs": [],
   "source": [
    "import torch \n",
    "import h5py\n",
    "import os \n",
    "\n",
    "import scipy.stats as stats\n",
    "import numpy as np\n",
    "import matplotlib as mpl\n",
    "import matplotlib.pyplot as plt\n",
    "import mplhep as hep\n",
    "\n",
    "from plot_utils import plot_ref_data, plot_ref_data_reco, plot_loss_history\n",
    "from analysis_utils import compute_df, produce_bins, save_binning, load_binning\n",
    "\n",
    "hep.style.use(hep.style.CMS)\n",
    "mpl.rcParams[\"figure.dpi\"] = 60"
   ]
  },
  {
   "cell_type": "code",
   "execution_count": null,
   "metadata": {},
   "outputs": [],
   "source": [
    "# Plotting parameters\n",
    "FONTSIZE  = 36\n",
    "FIGSIZE   = (14, 12)\n",
    "PALETTE_1 = [\n",
    "    \"#1f77b4\", # 0\n",
    "    \"#4876bf\", # 1 \n",
    "    \"#6c74c5\", # 2\n",
    "    \"#8f6fc6\", # 3\n",
    "    \"#b067c0\", # 4\n",
    "    \"#cd5fb4\", # 5\n",
    "    \"#e657a3\", # 6\n",
    "    \"#f9528d\", # 7\n",
    "    \"#ff5474\", # 8\n",
    "    \"#ff5d58\", # 9\n",
    "    \"#ff6c3a\", # 10\n",
    "    \"#ff7f0e\", # 11\n",
    "]\n",
    "PALETTE_2 = [\n",
    "    \"#494B69\", # 0\n",
    "    \"#695D7A\", # 1\n",
    "    \"#9F5B72\", # 2\n",
    "    \"#D8707C\", # 3\n",
    "    \"#FDA85A\", # 4\n",
    "    \"#FDCD5A\", # 5\n",
    "]\n",
    "PALETTE_3 = [\n",
    "    \"midnightblue\",   # 0\n",
    "    \"#1f78b4\",        # 1\n",
    "    \"lightseagreen\",  # 2\n",
    "    \"mediumseagreen\", # 3\n",
    "    \"darkseagreen\",   # 4\n",
    "]\n",
    "\n",
    "PLOT_PATH = \"./plots/\"\n",
    "if not os.path.exists(PLOT_PATH):\n",
    "    os.makedirs(PLOT_PATH)\n",
    "    \n",
    "DATA_PATH = \"./output/1D/NRef_200000_NBkg_2000_NSig_10_SigLoc_6.4_SigStd_0.16_Epochs_200000_Patience_5000_WClip_9_Arch_1_4_1/\""
   ]
  }
 ],
 "metadata": {
  "kernelspec": {
   "display_name": "torch112",
   "language": "python",
   "name": "python3"
  },
  "language_info": {
   "codemirror_mode": {
    "name": "ipython",
    "version": 3
   },
   "file_extension": ".py",
   "mimetype": "text/x-python",
   "name": "python",
   "nbconvert_exporter": "python",
   "pygments_lexer": "ipython3",
   "version": "3.10.13"
  }
 },
 "nbformat": 4,
 "nbformat_minor": 2
}
